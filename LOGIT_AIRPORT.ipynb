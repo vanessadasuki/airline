{
 "cells": [
  {
   "cell_type": "code",
   "execution_count": 12,
   "id": "4c765efe",
   "metadata": {},
   "outputs": [],
   "source": [
    "import os\n",
    "os.chdir(\"/Users/mammoc/Desktop/Python\")\n",
    "import warnings\n",
    "warnings.filterwarnings(\"ignore\")\n",
    "import pandas as pd\n",
    "import statsmodels.api as sm\n",
    "import numpy as np"
   ]
  },
  {
   "cell_type": "code",
   "execution_count": 3,
   "id": "ef3842cf",
   "metadata": {},
   "outputs": [],
   "source": [
    "airport = pd.read_csv(\"airport_original1.csv\", sep = ';', header = 0)"
   ]
  },
  {
   "cell_type": "code",
   "execution_count": 4,
   "id": "49619be4",
   "metadata": {},
   "outputs": [],
   "source": [
    "# Dropping rows where 'Destination' is 4\n",
    "airport = airport[airport['Destination'] != 4]"
   ]
  },
  {
   "cell_type": "code",
   "execution_count": 5,
   "id": "fd10a0eb",
   "metadata": {},
   "outputs": [],
   "source": [
    "###-------------- STEP 1: FILLING UP NAs ----------------\n",
    "\n",
    "#Drop NAs in Destination\n",
    "airport = airport.dropna(subset=['Destination'])\n",
    "\n",
    "#Age has 1 missing value (ID 214) => Replace by average age of 40\n",
    "airport.loc[airport['ID'] == 214, 'Age'] = 40\n",
    "\n",
    "#Gender has 3 missing values (ID 179, 199, 259)\n",
    "# => Fill up by most frequency category - female - 2.0\n",
    "airport.loc[airport['ID'].isin([179, 199, 259]), 'Gender'] = 2.0\n",
    "\n",
    "#SeatClass has 3 missing value \n",
    "#Fill up by most frequency category = 1.0\n",
    "airport.loc[airport['ID'].isin([245, 255, 450, 475]), 'SeatClass'] = 1.0\n",
    "\n",
    "#AccessTime:\n",
    "AccessTime_by_ProvinceResidence = airport.groupby('ProvinceResidence')['AccessTime'].mean()\n",
    "airport['AccessTime'] = airport.apply(\n",
    "    lambda row: AccessTime_by_ProvinceResidence[row['ProvinceResidence']] if pd.isnull(row['AccessTime']) \n",
    "    else row['AccessTime'],axis=1)\n",
    "\n",
    "#Noticeable Difference in Airfare Between Legacy Airlines and Others\n",
    "#print(airport.groupby('Airline[Legacy]')['Airfare'].mean())\n",
    "#print(airport.groupby('Airline[Legacy]')['Airfare'].median())\n",
    "# Recategorize 'Airline' into binary categories: 'Legacy' and 'Other'\n",
    "airport['Airline[Legacy]'] = airport['Airline'].isin([1, 2]).astype(int)\n",
    "\n",
    "#Airfare:\n",
    "# Calculate the mean 'Airfare' for each combination of 'Airline_Legacy','Destination'\n",
    "Airfare_by_Airline_Destination = airport.groupby(['Airline[Legacy]','Destination'])['Airfare'].mean()\n",
    "#Fill the missing values in 'Airfare' with the average values calculated above\n",
    "airport['Airfare'] = airport.apply(\n",
    "    lambda row: Airfare_by_Airline_Destination[row['Airline[Legacy]'], row['Destination']] if pd.isnull(row['Airfare']) \n",
    "    else row['Airfare'], axis=1)"
   ]
  },
  {
   "cell_type": "code",
   "execution_count": 6,
   "id": "422a399e",
   "metadata": {},
   "outputs": [],
   "source": [
    "##----------- STEP 2: RE-CATEGORIZING -------------\n",
    "airport[\"Intercept\"] = 1.0\n",
    "\n",
    "airport['Airport_binary'] = (airport['Airport'] == 1).astype(int)\n",
    "\n",
    "airport['Nationality[Japan]'] = (airport['Nationality'].isin([3])).astype(int)\n",
    "airport['Nationality[SE]'] = (airport['Nationality'].isin([4])).astype(int)\n",
    "airport['Nationality[China]'] = (airport['Nationality'].isin([2])).astype(int)\n",
    "#Reference group is Korean\n",
    "\n",
    "airport['TripDuration[<4]'] = (airport['TripDuration']<4).astype(int)\n",
    "#Reference group is >=4\n",
    "\n",
    "airport['ProvinceResidence[Incheon,Kyungki-do]'] = (airport['ProvinceResidence'].isin([2,3])).astype(int)\n",
    "#Reference group is other provinces\n",
    "\n",
    "airport['Destination[Japan]'] = (airport['Destination'] == 2).astype(int)\n",
    "airport['Destination[SE]'] = (airport['Destination'] == 3).astype(int)\n",
    "#Reference group is China\n",
    "\n",
    "airport['DepartureTime[noon]'] = (airport['DepartureTime'] == 2).astype(int)\n",
    "airport['DepartureTime[night]'] = (airport['DepartureTime'] == 3).astype(int)\n",
    "airport['DepartureTime[midnight]'] = (airport['DepartureTime'] == 4).astype(int)\n",
    "#Reference group is morning\n",
    "\n",
    "airport['AccessTime[<=30]'] = (airport['AccessTime']<= 30).astype(int)\n",
    "#Reference group is >30"
   ]
  },
  {
   "cell_type": "code",
   "execution_count": 8,
   "id": "cfd0eb90",
   "metadata": {},
   "outputs": [
    {
     "name": "stdout",
     "output_type": "stream",
     "text": [
      "Optimization terminated successfully.\n",
      "         Current function value: 0.328834\n",
      "         Iterations 8\n",
      "                           Logit Regression Results                           \n",
      "==============================================================================\n",
      "Dep. Variable:         Airport_binary   No. Observations:                  459\n",
      "Model:                          Logit   Df Residuals:                      444\n",
      "Method:                           MLE   Df Model:                           14\n",
      "Date:                Fri, 08 Mar 2024   Pseudo R-squ.:                  0.5247\n",
      "Time:                        21:33:03   Log-Likelihood:                -150.93\n",
      "converged:                       True   LL-Null:                       -317.58\n",
      "Covariance Type:            nonrobust   LLR p-value:                 1.309e-62\n",
      "=========================================================================================================\n",
      "                                            coef    std err          z      P>|z|      [0.025      0.975]\n",
      "---------------------------------------------------------------------------------------------------------\n",
      "Intercept                                -4.7653      0.848     -5.619      0.000      -6.428      -3.103\n",
      "NoTransport                               1.3742      0.335      4.101      0.000       0.717       2.031\n",
      "Airfare                                   0.0131      0.007      1.990      0.047       0.000       0.026\n",
      "FlyingCompanion                          -0.0697      0.041     -1.690      0.091      -0.151       0.011\n",
      "Nationality[Japan]                       -3.0620      1.259     -2.432      0.015      -5.530      -0.594\n",
      "Nationality[China]                       -1.3571      0.581     -2.336      0.020      -2.496      -0.218\n",
      "Nationality[SE]                          -0.2761      1.063     -0.260      0.795      -2.360       1.808\n",
      "TripDuration[<4]                         -1.5262      0.466     -3.274      0.001      -2.440      -0.613\n",
      "ProvinceResidence[Incheon,Kyungki-do]     0.6612      0.317      2.087      0.037       0.040       1.282\n",
      "Destination[Japan]                       -0.8309      0.373     -2.226      0.026      -1.563      -0.099\n",
      "Destination[SE]                           2.8904      0.454      6.365      0.000       2.000       3.780\n",
      "DepartureTime[noon]                       1.9464      0.614      3.172      0.002       0.744       3.149\n",
      "DepartureTime[night]                      3.1327      0.621      5.047      0.000       1.916       4.349\n",
      "DepartureTime[midnight]                   5.2469      1.263      4.155      0.000       2.772       7.722\n",
      "AccessTime[<=30]                         -0.9483      0.358     -2.646      0.008      -1.651      -0.246\n",
      "=========================================================================================================\n"
     ]
    }
   ],
   "source": [
    "## ----------------------- LOGIT - AIRPORT ----------------------\n",
    "\n",
    "X = airport[[\"Intercept\",  \n",
    "             'NoTransport',\n",
    "             'Airfare',\n",
    "             'FlyingCompanion',\n",
    "             'Nationality[Japan]',\n",
    "             'Nationality[China]',\n",
    "             'Nationality[SE]', \n",
    "             'TripDuration[<4]',  \n",
    "             'ProvinceResidence[Incheon,Kyungki-do]',\n",
    "             'Destination[Japan]', 'Destination[SE]',\n",
    "             'DepartureTime[noon]', 'DepartureTime[night]', 'DepartureTime[midnight]',\n",
    "             'AccessTime[<=30]',\n",
    "]]\n",
    "y = airport['Airport_binary']\n",
    "logit_model1 = sm.Logit(y, X).fit()\n",
    "print(logit_model1.summary())"
   ]
  },
  {
   "cell_type": "code",
   "execution_count": 13,
   "id": "d05f470b",
   "metadata": {},
   "outputs": [
    {
     "name": "stdout",
     "output_type": "stream",
     "text": [
      "Average Accuracy: 0.8757487922705314\n",
      "Average Recall: 0.8259798772293051\n",
      "Average Precision: 0.9062753667900727\n"
     ]
    }
   ],
   "source": [
    "import numpy as np\n",
    "from sklearn.model_selection import KFold\n",
    "from sklearn.metrics import confusion_matrix, accuracy_score, recall_score, precision_score\n",
    "\n",
    "kf = KFold(n_splits=10, shuffle=True, random_state=1) # Ensure reproducibility with random_state\n",
    "\n",
    "# Lists to store metrics for each fold\n",
    "accuracies = []\n",
    "recalls = []\n",
    "precisions = []\n",
    "\n",
    "for train_index, test_index in kf.split(X):\n",
    "    X_train, X_test = X.iloc[train_index], X.iloc[test_index]\n",
    "    y_train, y_test = y.iloc[train_index], y.iloc[test_index]\n",
    "\n",
    "    # Fit logistic regression model\n",
    "    logit_model = sm.Logit(y_train, X_train).fit(disp=0) # disp=0 suppresses the fit summary\n",
    "    \n",
    "    # Predictions\n",
    "    y_pred = logit_model.predict(X_test)\n",
    "    y_pred_class = (y_pred > 0.5).astype(int) # Convert probabilities to class labels\n",
    "\n",
    "    # Compute confusion matrix\n",
    "    cm = confusion_matrix(y_test, y_pred_class)\n",
    "    #print(\"Confusion Matrix:\")\n",
    "    #print(cm)\n",
    "    \n",
    "    # Calculate metrics\n",
    "    accuracy = accuracy_score(y_test, y_pred_class)\n",
    "    recall = recall_score(y_test, y_pred_class)\n",
    "    precision = precision_score(y_test, y_pred_class)\n",
    "\n",
    "    # Append metrics to lists\n",
    "    accuracies.append(accuracy)\n",
    "    recalls.append(recall)\n",
    "    precisions.append(precision)\n",
    "\n",
    "# Print average metrics\n",
    "print(f\"Average Accuracy: {np.mean(accuracies)}\")\n",
    "print(f\"Average Recall: {np.mean(recalls)}\")\n",
    "print(f\"Average Precision: {np.mean(precisions)}\")"
   ]
  }
 ],
 "metadata": {
  "kernelspec": {
   "display_name": "Python 3 (ipykernel)",
   "language": "python",
   "name": "python3"
  },
  "language_info": {
   "codemirror_mode": {
    "name": "ipython",
    "version": 3
   },
   "file_extension": ".py",
   "mimetype": "text/x-python",
   "name": "python",
   "nbconvert_exporter": "python",
   "pygments_lexer": "ipython3",
   "version": "3.11.5"
  }
 },
 "nbformat": 4,
 "nbformat_minor": 5
}
