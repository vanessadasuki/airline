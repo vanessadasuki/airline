{
 "cells": [
  {
   "cell_type": "code",
   "execution_count": 10,
   "id": "c31a3dc3",
   "metadata": {},
   "outputs": [],
   "source": [
    "import os\n",
    "os.chdir(\"/Users/mammoc/Desktop/Python\")\n",
    "import warnings\n",
    "warnings.filterwarnings(\"ignore\")\n",
    "import pandas as pd\n",
    "from sklearn import metrics\n",
    "from sklearn import tree\n",
    "airport = pd.read_csv(\"airport_original1.csv\", sep = ';', header = 0)\n",
    "#airport"
   ]
  },
  {
   "cell_type": "code",
   "execution_count": 11,
   "id": "d2d920e2",
   "metadata": {},
   "outputs": [],
   "source": [
    "# Dropping rows where 'Destination' is 4\n",
    "airport = airport[airport['Destination'] != 4]\n",
    "airport = airport.dropna(subset=['Destination'])"
   ]
  },
  {
   "cell_type": "code",
   "execution_count": 12,
   "id": "c6fcf527",
   "metadata": {},
   "outputs": [],
   "source": [
    "#FILL UP MISSING VALUES\n",
    "#Age has 1 missing value (ID 214) => Replace by average age of 40\n",
    "airport.loc[airport['ID'] == 214, 'Age'] = 40\n",
    "\n",
    "#Gender has 3 missing values (ID 179, 199, 259)\n",
    "# => Fill up by most frequency category - female - 2.0\n",
    "airport.loc[airport['ID'].isin([179, 199, 259]), 'Gender'] = 2.0\n",
    "\n",
    "\n",
    "#SeatClass has 3 missing value \n",
    "#Fill up by most frequency category = 1.0\n",
    "airport.loc[airport['ID'].isin([245, 255, 450, 475]), 'SeatClass'] = 1.0\n",
    "\n",
    "#AccessTime\n",
    "AccessTime_by_ProvinceResidence = airport.groupby('ProvinceResidence')['AccessTime'].mean()\n",
    "airport['AccessTime'] = airport.apply(\n",
    "    lambda row: AccessTime_by_ProvinceResidence[row['ProvinceResidence']] if pd.isnull(row['AccessTime']) \n",
    "    else row['AccessTime'],axis=1)\n",
    "\n",
    "\n",
    "# Recategorize 'Airline' into binary categories: 'Legacy' and 'Other'\n",
    "airport['Airline[Legacy]'] = airport['Airline'].isin([1, 2]).astype(int)\n",
    "\n",
    "# Calculate the mean 'Airfare' for each combination of 'Airline[Legacy]','Destination'\n",
    "Airfare_by_Airline_Destination = airport.groupby(['Airline[Legacy]','Destination'])['Airfare'].mean()\n",
    "\n",
    "#Fill the missing values in 'Airfare' with the average values calculated above\n",
    "airport['Airfare'] = airport.apply(\n",
    "    lambda row: Airfare_by_Airline_Destination[row['Airline[Legacy]'], row['Destination']] if pd.isnull(row['Airfare']) \n",
    "    else row['Airfare'], axis=1)"
   ]
  },
  {
   "cell_type": "code",
   "execution_count": 14,
   "id": "604d60a6",
   "metadata": {},
   "outputs": [],
   "source": [
    "#---------------------- AIRPORT ----------------------\n",
    "X = airport[['Age',\n",
    "             'Gender',\n",
    "             'TripPurpose',\n",
    "             'Nationality',\n",
    "             'TripDuration',\n",
    "             'FlyingCompanion',\n",
    "             'ProvinceResidence',\n",
    "             'GroupTravel',\n",
    "             'Destination',\n",
    "             'DepartureTime',            \n",
    "             'AccessTime',\n",
    "             'NoTransport',\n",
    "             'NoTripsLastYear',\n",
    "             'SeatClass',\n",
    "             'ModeTransport',\n",
    "             'Airfare'\n",
    "             ]]\n",
    "#Seoul,Incheon and other, Incheon,Kyungki-do and others\n",
    "y = airport['Airport']\n",
    "random_state=109\n",
    "\n",
    "clf = tree.DecisionTreeClassifier(class_weight=None, criterion='gini',\n",
    "max_depth=6, max_features=None, max_leaf_nodes=None,\n",
    "min_samples_leaf=10, min_samples_split=2,\n",
    "min_weight_fraction_leaf=0.0, random_state=100, splitter='best')\n",
    "clf = clf.fit(X, y)"
   ]
  },
  {
   "cell_type": "code",
   "execution_count": 36,
   "id": "5d21ffd7",
   "metadata": {},
   "outputs": [],
   "source": [
    "#dot_data = tree.export_graphviz(clf, out_file='final.ap.Tree.dot', feature_names=X.columns)"
   ]
  },
  {
   "cell_type": "code",
   "execution_count": 23,
   "id": "5b977952",
   "metadata": {},
   "outputs": [
    {
     "name": "stdout",
     "output_type": "stream",
     "text": [
      "Average accuracy from 10-fold cross-validation: 0.84\n",
      "Average recall from 10-fold cross-validation: 0.83\n",
      "Average precision from 10-fold cross-validation: 0.84\n"
     ]
    }
   ],
   "source": [
    "#---------- 10-FOLD CROSS VALIDATION - AIRPORT ------------\n",
    "from sklearn.model_selection import cross_val_score\n",
    "# Perform 10-fold cross-validation and compute the accuracy\n",
    "cv_scores = cross_val_score(clf, X, y, cv=10)\n",
    "\n",
    "# Calculate the average accuracy across all 10 folds\n",
    "average_accuracy = cv_scores.mean()\n",
    "\n",
    "cv_recall_scores = cross_val_score(clf, X, y, cv=10, scoring='recall_macro')  # Use 'recall' for binary classification\n",
    "# Calculate the average recall across all 10 folds\n",
    "average_recall = cv_recall_scores.mean()\n",
    "\n",
    "# Perform 10-fold cross-validation and compute the precision\n",
    "cv_precision_scores = cross_val_score(clf, X, y, cv=10, scoring='precision_macro')  # Use 'precision' for binary classification\n",
    "# Calculate the average precision across all 10 folds\n",
    "average_precision = cv_precision_scores.mean()\n",
    "\n",
    "print(f'Average accuracy from 10-fold cross-validation: {average_accuracy:.2f}')\n",
    "print(f'Average recall from 10-fold cross-validation: {average_recall:.2f}')\n",
    "print(f'Average precision from 10-fold cross-validation: {average_precision:.2f}')"
   ]
  },
  {
   "cell_type": "code",
   "execution_count": 19,
   "id": "f21f7fbd",
   "metadata": {},
   "outputs": [],
   "source": [
    "#-------------- AIRLINE ----------------\n",
    "airport['Airline[Legacy]'] = (airport['Airline'].isin([1,2])).astype(int)\n",
    "X1 = airport[['Age',\n",
    "             'Gender',\n",
    "             'TripPurpose',\n",
    "             'Occupation',\n",
    "             'Nationality',\n",
    "             'TripDuration',\n",
    "             'FlyingCompanion',\n",
    "             'ProvinceResidence',\n",
    "             'GroupTravel',\n",
    "             'Destination',\n",
    "             'DepartureTime',            \n",
    "             'AccessTime',\n",
    "             'NoTransport',\n",
    "             'NoTripsLastYear',\n",
    "             'SeatClass',\n",
    "             'ModeTransport',\n",
    "             'Airfare'\n",
    "             ]]\n",
    "#Seoul,Incheon and other, Incheon,Kyungki-do and others\n",
    "y1 = airport['Airline[Legacy]']\n",
    "random_state=109\n",
    "\n",
    "clf1 = tree.DecisionTreeClassifier(class_weight=None, criterion='gini',\n",
    "max_depth=5, max_features=None, max_leaf_nodes=None,\n",
    "min_samples_leaf=10, min_samples_split=2,\n",
    "min_weight_fraction_leaf=0.0, random_state=100, splitter='best')\n",
    "clf1 = clf1.fit(X1, y1)"
   ]
  },
  {
   "cell_type": "code",
   "execution_count": 50,
   "id": "4b1777bf",
   "metadata": {},
   "outputs": [],
   "source": [
    "#dot_data1 = tree.export_graphviz(clf1, out_file='final.al.Tree.dot', feature_names=X1.columns)"
   ]
  },
  {
   "cell_type": "code",
   "execution_count": 24,
   "id": "5151e252",
   "metadata": {},
   "outputs": [
    {
     "name": "stdout",
     "output_type": "stream",
     "text": [
      "Average accuracy from 10-fold cross-validation: 0.68\n",
      "Average recall from 10-fold cross-validation: 0.81\n",
      "Average precision from 10-fold cross-validation: 0.82\n"
     ]
    }
   ],
   "source": [
    "#---------- 10-FOLD CROSS VALIDATION - AIRLINE ------------\n",
    "# Perform 10-fold cross-validation and compute the accuracy\n",
    "cv_scores = cross_val_score(clf1, X1, y1, cv=10)\n",
    "\n",
    "# Calculate the average accuracy across all 10 folds\n",
    "average_accuracy = cv_scores.mean()\n",
    "\n",
    "cv_recall_scores1 = cross_val_score(clf1, X, y, cv=10, scoring='recall_macro')  # Use 'recall' for binary classification\n",
    "# Calculate the average recall across all 10 folds\n",
    "average_recall = cv_recall_scores1.mean()\n",
    "\n",
    "# Perform 10-fold cross-validation and compute the precision\n",
    "cv_precision_scores1 = cross_val_score(clf1, X, y, cv=10, scoring='precision_macro')  # Use 'precision' for binary classification\n",
    "# Calculate the average precision across all 10 folds\n",
    "average_precision = cv_precision_scores1.mean()\n",
    "\n",
    "print(f'Average accuracy from 10-fold cross-validation: {average_accuracy:.2f}')\n",
    "print(f'Average recall from 10-fold cross-validation: {average_recall:.2f}')\n",
    "print(f'Average precision from 10-fold cross-validation: {average_precision:.2f}')"
   ]
  },
  {
   "cell_type": "code",
   "execution_count": null,
   "id": "2b2b36ca",
   "metadata": {},
   "outputs": [],
   "source": []
  }
 ],
 "metadata": {
  "kernelspec": {
   "display_name": "Python 3 (ipykernel)",
   "language": "python",
   "name": "python3"
  },
  "language_info": {
   "codemirror_mode": {
    "name": "ipython",
    "version": 3
   },
   "file_extension": ".py",
   "mimetype": "text/x-python",
   "name": "python",
   "nbconvert_exporter": "python",
   "pygments_lexer": "ipython3",
   "version": "3.11.5"
  }
 },
 "nbformat": 4,
 "nbformat_minor": 5
}
