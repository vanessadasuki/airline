{
 "cells": [
  {
   "cell_type": "code",
   "execution_count": 2,
   "id": "e46aa4a1",
   "metadata": {},
   "outputs": [],
   "source": [
    "import os\n",
    "os.chdir(\"/Users/mammoc/Desktop/Python\")\n",
    "import warnings\n",
    "warnings.filterwarnings(\"ignore\")\n",
    "import pandas as pd\n",
    "import statsmodels.api as sm\n",
    "import numpy as np"
   ]
  },
  {
   "cell_type": "code",
   "execution_count": 3,
   "id": "cc1a8919",
   "metadata": {},
   "outputs": [],
   "source": [
    "airport = pd.read_csv(\"airport_original1.csv\", sep = ';', header = 0)"
   ]
  },
  {
   "cell_type": "code",
   "execution_count": 4,
   "id": "b65e574d",
   "metadata": {},
   "outputs": [],
   "source": [
    "# Dropping rows where 'Destination' is 4\n",
    "airport = airport[airport['Destination'] != 4]"
   ]
  },
  {
   "cell_type": "code",
   "execution_count": 5,
   "id": "a73e0c30",
   "metadata": {},
   "outputs": [],
   "source": [
    "###-------------- STEP 1: FILLING UP NAs ----------------\n",
    "\n",
    "#Drop NAs in Destination\n",
    "airport = airport.dropna(subset=['Destination'])\n",
    "\n",
    "#Age has 1 missing value (ID 214) => Replace by average age of 40\n",
    "airport.loc[airport['ID'] == 214, 'Age'] = 40\n",
    "\n",
    "#Gender has 3 missing values (ID 179, 199, 259)\n",
    "# => Fill up by most frequency category - female - 2.0\n",
    "airport.loc[airport['ID'].isin([179, 199, 259]), 'Gender'] = 2.0\n",
    "\n",
    "#SeatClass has 3 missing value \n",
    "#Fill up by most frequency category = 1.0\n",
    "airport.loc[airport['ID'].isin([245, 255, 450, 475]), 'SeatClass'] = 1.0\n",
    "\n",
    "#AccessTime:\n",
    "AccessTime_by_ProvinceResidence = airport.groupby('ProvinceResidence')['AccessTime'].mean()\n",
    "airport['AccessTime'] = airport.apply(\n",
    "    lambda row: AccessTime_by_ProvinceResidence[row['ProvinceResidence']] if pd.isnull(row['AccessTime']) \n",
    "    else row['AccessTime'],axis=1)\n",
    "\n",
    "# Recategorize 'Airline' into binary categories: 'Legacy' and 'Other'\n",
    "airport['Airline[Legacy]'] = airport['Airline'].isin([1, 2]).astype(int)\n",
    "\n",
    "#Airfare:\n",
    "# Calculate the mean 'Airfare' for each combination of 'Airline_Legacy','Destination'\n",
    "Airfare_by_Airline_Destination = airport.groupby(['Airline[Legacy]','Destination'])['Airfare'].mean()\n",
    "#Fill the missing values in 'Airfare' with the average values calculated above\n",
    "airport['Airfare'] = airport.apply(\n",
    "    lambda row: Airfare_by_Airline_Destination[row['Airline[Legacy]'], row['Destination']] if pd.isnull(row['Airfare']) \n",
    "    else row['Airfare'], axis=1)\n",
    "\n",
    "#Airline:\n",
    "#For Incheon: Uniform distribution\n",
    "airport.loc[airport['ID'].isin([69, 72]), 'Airline'] = 1.0\n",
    "airport.loc[airport['ID'].isin([82, 83]), 'Airline'] = 2.0\n",
    "airport.loc[airport['ID'].isin([89, 188]), 'Airline'] = 3.0\n",
    "airport.loc[airport['ID'].isin([212, 214]), 'Airline'] = 4.0\n",
    "\n",
    "#For Gimpo: Most frequency group\n",
    "airport.loc[airport['ID'].isin([266, 314]), 'Airline'] = 4.0"
   ]
  },
  {
   "cell_type": "code",
   "execution_count": 6,
   "id": "d540e96a",
   "metadata": {},
   "outputs": [
    {
     "name": "stdout",
     "output_type": "stream",
     "text": [
      "Airline[Legacy]\n",
      "0    45.496782\n",
      "1    51.008293\n",
      "Name: Airfare, dtype: float64\n",
      "249\n",
      "210\n"
     ]
    }
   ],
   "source": [
    "## --------- STEP 2: RE-CATEGORIZING Y ----------\n",
    "airport['Airline[Legacy]'] = airport['Airline'].isin([1, 2]).astype(int)\n",
    "\n",
    "#Reason: there is a difference in range of Airfare:\n",
    "print(airport.groupby('Airline[Legacy]')['Airfare'].mean())\n",
    "\n",
    "#Checking sampple size each group: make sure they relatively even\n",
    "airport['Airline[Other]'] = airport['Airline'].isin([3,4]).astype(int)\n",
    "print(airport['Airline[Legacy]'].sum())\n",
    "print(airport['Airline[Other]'].sum())"
   ]
  },
  {
   "cell_type": "code",
   "execution_count": 7,
   "id": "e5556c5a",
   "metadata": {},
   "outputs": [],
   "source": [
    "##----------- STEP 3: RE-CATEGORIZING -------------\n",
    "airport[\"Intercept\"] = 1.0\n",
    "\n",
    "airport['FlyingCompanion[>=3]'] = (airport['FlyingCompanion']>= 3).astype(int)\n",
    "##Reference group is < 3\n",
    "\n",
    "airport['ProvinceResidence[Seoul,Kyungki-do]'] = (airport['ProvinceResidence'].isin([1,3])).astype(int)\n",
    "#Reference group is other provinces\n",
    "\n",
    "airport['Destination[Japan]'] = (airport['Destination'] == 2).astype(int)\n",
    "airport['Destination[China]'] = (airport['Destination'] == 1).astype(int)\n",
    "#Reference group is South East"
   ]
  },
  {
   "cell_type": "code",
   "execution_count": 8,
   "id": "a289137c",
   "metadata": {},
   "outputs": [
    {
     "name": "stdout",
     "output_type": "stream",
     "text": [
      "Optimization terminated successfully.\n",
      "         Current function value: 0.607284\n",
      "         Iterations 7\n",
      "                           Logit Regression Results                           \n",
      "==============================================================================\n",
      "Dep. Variable:        Airline[Legacy]   No. Observations:                  459\n",
      "Model:                          Logit   Df Residuals:                      448\n",
      "Method:                           MLE   Df Model:                           10\n",
      "Date:                Sat, 09 Mar 2024   Pseudo R-squ.:                  0.1193\n",
      "Time:                        11:49:47   Log-Likelihood:                -278.74\n",
      "converged:                       True   LL-Null:                       -316.50\n",
      "Covariance Type:            nonrobust   LLR p-value:                 3.794e-12\n",
      "=======================================================================================================\n",
      "                                          coef    std err          z      P>|z|      [0.025      0.975]\n",
      "-------------------------------------------------------------------------------------------------------\n",
      "Intercept                              -0.8887      0.819     -1.085      0.278      -2.494       0.717\n",
      "AccessTime                              0.0063      0.003      2.235      0.025       0.001       0.012\n",
      "Airfare                                 0.0196      0.007      2.899      0.004       0.006       0.033\n",
      "NoTripsLastYear                         0.0438      0.024      1.841      0.066      -0.003       0.090\n",
      "GroupTravel                            -1.0445      0.322     -3.241      0.001      -1.676      -0.413\n",
      "Age                                     0.0146      0.008      1.830      0.067      -0.001       0.030\n",
      "TripDuration                            0.0030      0.002      1.693      0.090      -0.000       0.006\n",
      "ProvinceResidence[Seoul,Kyungki-do]     0.7270      0.225      3.233      0.001       0.286       1.168\n",
      "FlyingCompanion[>=3]                   -0.5998      0.253     -2.373      0.018      -1.095      -0.104\n",
      "Destination[China]                      1.0612      0.262      4.044      0.000       0.547       1.576\n",
      "Destination[Japan]                      1.0323      0.259      3.989      0.000       0.525       1.539\n",
      "=======================================================================================================\n"
     ]
    }
   ],
   "source": [
    "X = airport[[\"Intercept\", \n",
    "             'AccessTime',\n",
    "             'Airfare', \n",
    "             'NoTripsLastYear',\n",
    "             'GroupTravel',\n",
    "             'Age',\n",
    "             'TripDuration', \n",
    "             'ProvinceResidence[Seoul,Kyungki-do]',\n",
    "             'FlyingCompanion[>=3]', \n",
    "             'Destination[China]', \n",
    "             'Destination[Japan]',\n",
    "]]\n",
    "\n",
    "y = airport['Airline[Legacy]']\n",
    "\n",
    "logit_model1 = sm.Logit(y, X).fit()\n",
    "\n",
    "print(logit_model1.summary())"
   ]
  },
  {
   "cell_type": "code",
   "execution_count": 28,
   "id": "a7ee81ec",
   "metadata": {},
   "outputs": [
    {
     "name": "stdout",
     "output_type": "stream",
     "text": [
      "Average Accuracy: 0.6730434782608695\n",
      "Average Recall: 0.7456937598933969\n",
      "Average Precision: 0.6855636469119639\n"
     ]
    }
   ],
   "source": [
    "import numpy as np\n",
    "from sklearn.model_selection import KFold\n",
    "from sklearn.metrics import confusion_matrix, accuracy_score, recall_score, precision_score\n",
    "\n",
    "kf = KFold(n_splits=10, shuffle=True, random_state=1) # Ensure reproducibility with random_state\n",
    "\n",
    "# Lists to store metrics for each fold\n",
    "accuracies = []\n",
    "recalls = []\n",
    "precisions = []\n",
    "\n",
    "for train_index, test_index in kf.split(X):\n",
    "    X_train, X_test = X.iloc[train_index], X.iloc[test_index]\n",
    "    y_train, y_test = y.iloc[train_index], y.iloc[test_index]\n",
    "\n",
    "    # Fit logistic regression model\n",
    "    logit_model = sm.Logit(y_train, X_train).fit(disp=0) # disp=0 suppresses the fit summary\n",
    "    \n",
    "    # Predictions\n",
    "    y_pred = logit_model.predict(X_test)\n",
    "    y_pred_class = (y_pred > 0.5).astype(int) # Convert probabilities to class labels\n",
    "\n",
    "    # Compute confusion matrix\n",
    "    cm = confusion_matrix(y_test, y_pred_class)\n",
    "    #print(\"Confusion Matrix:\")\n",
    "    #print(cm)\n",
    "    \n",
    "    # Calculate metrics\n",
    "    accuracy = accuracy_score(y_test, y_pred_class)\n",
    "    recall = recall_score(y_test, y_pred_class)\n",
    "    precision = precision_score(y_test, y_pred_class)\n",
    "\n",
    "    # Append metrics to lists\n",
    "    accuracies.append(accuracy)\n",
    "    recalls.append(recall)\n",
    "    precisions.append(precision)\n",
    "\n",
    "# Print average metrics\n",
    "print(f\"Average Accuracy: {np.mean(accuracies)}\")\n",
    "print(f\"Average Recall: {np.mean(recalls)}\")\n",
    "print(f\"Average Precision: {np.mean(precisions)}\")"
   ]
  }
 ],
 "metadata": {
  "kernelspec": {
   "display_name": "Python 3 (ipykernel)",
   "language": "python",
   "name": "python3"
  },
  "language_info": {
   "codemirror_mode": {
    "name": "ipython",
    "version": 3
   },
   "file_extension": ".py",
   "mimetype": "text/x-python",
   "name": "python",
   "nbconvert_exporter": "python",
   "pygments_lexer": "ipython3",
   "version": "3.11.5"
  }
 },
 "nbformat": 4,
 "nbformat_minor": 5
}
